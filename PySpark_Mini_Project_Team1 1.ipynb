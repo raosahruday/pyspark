{
 "cells": [
  {
   "cell_type": "markdown",
   "id": "c40582c0-2156-483e-8aad-1e7c3c54dac7",
   "metadata": {},
   "source": [
    "![alt text](Logo_Capgemini-1.jpg)"
   ]
  },
  {
   "cell_type": "markdown",
   "id": "4c8f751b-9fc0-4b04-b2fe-d73057f52e27",
   "metadata": {},
   "source": [
    "# <center> PySpark MINI-PROJECT </center>\n"
   ]
  },
  {
   "cell_type": "markdown",
   "id": "99913b7b-6265-4e28-a4cc-39301d371bc2",
   "metadata": {},
   "source": [
    "---\n"
   ]
  },
  {
   "cell_type": "markdown",
   "id": "e9d4dc68-3b00-4525-a577-e89e5efd1e20",
   "metadata": {},
   "source": [
    "---"
   ]
  },
  {
   "cell_type": "markdown",
   "id": "712b4a69-d35d-4005-be97-6e7a41e262a4",
   "metadata": {},
   "source": [
    "---"
   ]
  },
  {
   "cell_type": "markdown",
   "id": "c4950f80-64ee-46a4-8858-d1f500df129e",
   "metadata": {},
   "source": [
    "### <center> Code:</center>"
   ]
  },
  {
   "cell_type": "markdown",
   "id": "50c52afb-76b8-4b20-8126-c807de746c3a",
   "metadata": {},
   "source": [
    "---"
   ]
  },
  {
   "cell_type": "markdown",
   "id": "56429d88-d360-4c7f-8ef2-82ad95344d3a",
   "metadata": {},
   "source": [
    "1. *Set the pyspark environment variables*"
   ]
  },
  {
   "cell_type": "code",
   "execution_count": 1,
   "id": "2a167907-09b5-47ce-8efd-b57ee2a56b67",
   "metadata": {},
   "outputs": [],
   "source": [
    "import os\n",
    "import sys\n",
    "os.environ['SPARK_HOME'] = r\"C:\\spark\"\n",
    "os.environ['HADOOP_HOME'] = r\"C:\\hadoop\"\n",
    "os.environ['PYSPARK_DRIVER_PYTHON'] = 'jupyter'\n",
    "os.environ['PYSPARK_DRIVER_PYTHON_OPTS'] = 'lab'\n",
    "os.environ['PYSPARK_PYTHON'] = sys.executable\n",
    "os.environ['PYSPARK_DRIVER_PYTHON'] = sys.executable"
   ]
  },
  {
   "cell_type": "markdown",
   "id": "defef080-a57c-483c-8600-8ad9b908e9e6",
   "metadata": {},
   "source": [
    "2. *Import Libraries*"
   ]
  },
  {
   "cell_type": "code",
   "execution_count": 2,
   "id": "72763462-6dca-4910-8a84-16e29a1def4f",
   "metadata": {},
   "outputs": [],
   "source": [
    "from pyspark.sql import SparkSession\n",
    "from pyspark.sql.functions import col, avg\n",
    "from pyspark.sql.functions import year, quarter, month, dayofweek, to_date, monotonically_increasing_id, date_format"
   ]
  },
  {
   "cell_type": "markdown",
   "id": "969f5ffc-9d10-46f3-ac4b-bb2b93a91daa",
   "metadata": {},
   "source": [
    "3. *Session Created*"
   ]
  },
  {
   "cell_type": "code",
   "execution_count": 3,
   "id": "fae446af-42f7-4e19-bf68-48ad27753de8",
   "metadata": {},
   "outputs": [],
   "source": [
    "spark = SparkSession.builder \\\n",
    "    .appName(\"Statistical Analysis of Campus Recuritment\") \\\n",
    "    .config(\"spark.sql.legacy.timeParserPolicy\", \"LEGACY\") \\\n",
    "    .getOrCreate()\n"
   ]
  },
  {
   "cell_type": "markdown",
   "id": "7e294af4-4f50-401b-9685-fb9a7c1474c9",
   "metadata": {},
   "source": [
    "4. *Load the CSV data into DataFrames*"
   ]
  },
  {
   "cell_type": "code",
   "execution_count": null,
   "id": "8ca562b9-b13e-4665-9f2b-dd09c214b6ef",
   "metadata": {},
   "outputs": [
    {
     "data": {
      "text/plain": [
       "DataFrame[date_key: int, full_date: string, day_of_week: int, day_num_in_month: int, day_num_overall: int, day_name: string, day_abbrev: string, weekday_flag: string, week_num_in_year: int, week_num_overall: int, week_begin_date: string, week_begin_date_key: int, fb_month: int, month_num_overall: int, month_name: string, month_abbrev: string, quarter: int, fb_year: int, yearmo: int, fiscal_month: int, fiscal_quarter: int, fiscal_year: int, last_day_in_month_flag: string, same_day_year_ago_date: string]"
      ]
     },
     "execution_count": 4,
     "metadata": {},
     "output_type": "execute_result"
    }
   ],
   "source": [
    "# Load CSV Files\n",
    "campus_company_df = spark.read.csv(r\"C:\\MINI-PROJECT\\Campus_Source1_Company.csv\", header=True, inferSchema=True)\n",
    "campus_college_df = spark.read.csv(r\"C:\\MINI-PROJECT\\Campus_Source2_College.csv\", header=True, inferSchema=True)\n",
    "\n",
    "# Fill the NULL data with 0 for computation (if needed)\n",
    "campus_company_df.na.fill(0)\n",
    "campus_college_df.na.fill(0)"
   ]
  },
  {
   "cell_type": "code",
   "execution_count": null,
   "id": "8fde5596-caaf-460c-8800-23d0bfe49bef",
   "metadata": {},
   "outputs": [],
   "source": [
    "# Adjust format if needed\n",
    "campus_company_df = campus_company_df.withColumn(\"Date\", to_date(\"Date\", \"dd-MMM-yy\")) \n",
    "#campus_company_df.show()\n",
    "campus_college_df = campus_college_df.withColumn(\"Date\", to_date(\"Date\", \"dd-MMM-yy\"))  # Adjust format if needed\n",
    "#campus_college_df.show()"
   ]
  },
  {
   "cell_type": "markdown",
   "id": "49d8f08b-6c85-4d03-a6c3-207fd18b8368",
   "metadata": {},
   "source": [
    "5. *Create Dimension Tables from Data Loaded into DataFrames*"
   ]
  },
  {
   "cell_type": "markdown",
   "id": "7c58bf7f-0cbf-40e8-9694-4ff193094450",
   "metadata": {},
   "source": [
    "- *Table 1: College Dimension Table*"
   ]
  },
  {
   "cell_type": "code",
   "execution_count": 6,
   "id": "b8eb6e43-98ac-4f1b-9f68-bdf726b4dea2",
   "metadata": {},
   "outputs": [
    {
     "name": "stdout",
     "output_type": "stream",
     "text": [
      "+--------------------+--------------+----------+\n",
      "|        College_Name|      Location|College_ID|\n",
      "+--------------------+--------------+----------+\n",
      "|BIRLA INSTITUTE O...|     RAJASTHAN|     10000|\n",
      "|       IIT KHARAGPUR|   WEST BENGAL|     10001|\n",
      "|COLLEGE OF ENGINE...|   MAHARASHTRA|     10002|\n",
      "|       IIIT HYDERBAD|ANDHRA PRADESH|     10003|\n",
      "|           IIT DELHI|         DELHI|     10004|\n",
      "|        IIT GUWAHATI|         ASSAM|     10005|\n",
      "|     MNNIT ALLAHABAD| UTTAR PRADESH|     10006|\n",
      "|VISHWESHWARAYYA T...|     KARNATAKA|     10007|\n",
      "|          IIT KANPUR| UTTAR PRADESH|     10008|\n",
      "|          IIT MUMBAI|   MAHARASHTRA|     10009|\n",
      "|      SRM UNIVERSITY|     TELANGANA|     10010|\n",
      "|MANIPAL INSTITUTE...|     KARNATAKA|     10011|\n",
      "|         IIT ROORKEE| UTTAR PRADESH|     10012|\n",
      "|DELHI COLLEGE OF ...|         DELHI|     10013|\n",
      "|VELLORE INSTITUTE...|    TAMIL NADU|     10014|\n",
      "|PSG COLLEGE OF TE...|    TAMIL NADU|     10015|\n",
      "|INSTITUTE OF TECH...| UTTAR PRADESH|     10016|\n",
      "|          IIT MADRAS|    TAMIL NADU|     10017|\n",
      "|THAPAR INSTITUTE ...|        PUNJAB|     10018|\n",
      "|DHIRUBHAI AMBANI ...|       GUJARAT|     10019|\n",
      "+--------------------+--------------+----------+\n",
      "\n"
     ]
    }
   ],
   "source": [
    "# Create College dimension table\n",
    "college_df = campus_college_df.select(\n",
    "    \"College_Name\",\n",
    "    \"Location\"\n",
    ").distinct()\n",
    "\n",
    "# Adding College_ID column name to the College Dimension Table\n",
    "college_df = college_df.withColumn(\"College_ID\", monotonically_increasing_id()+10000)\n",
    "\n",
    "# Show College dimension table\n",
    "college_df.show()"
   ]
  },
  {
   "cell_type": "markdown",
   "id": "ae5c7910-2b32-4cf9-8322-bf85bdbf42ff",
   "metadata": {},
   "source": [
    "- *Table 2: Company Dimension Table*"
   ]
  },
  {
   "cell_type": "code",
   "execution_count": 7,
   "id": "ce7ef015-3f11-4e5a-aa76-c76345003d67",
   "metadata": {},
   "outputs": [
    {
     "name": "stdout",
     "output_type": "stream",
     "text": [
      "+------------+--------------------+-----------+----------+\n",
      "|Company_Name|Head_Office_Location|    Country|Company_ID|\n",
      "+------------+--------------------+-----------+----------+\n",
      "|    FACEBOOK|          MENLO PARK|        USA|     20000|\n",
      "|     SAMSUNG|               SUWON|SOUTH KOREA|     20001|\n",
      "|   COGNIZANT|             TEANECK|        USA|     20002|\n",
      "|       EMC 2|           HOPKINTON|        USA|     20003|\n",
      "|        KPMG|           AMSTERDAM|NETHERLANDS|     20004|\n",
      "|      AKAMAI|           CAMBRIDGE|        USA|     20005|\n",
      "|   MICROSOFT|             REDMOND|        USA|     20006|\n",
      "|         TCS|              MUMBAI|      INDIA|     20007|\n",
      "|    MU SIGMA|             CHICAGO|        USA|     20008|\n",
      "|   ACCENTURE|              DUBLIN|    IRELAND|     20009|\n",
      "|       WIPRO|           BENGALURU|      INDIA|     20010|\n",
      "|   JP MORGAN|           NEW YORK |        USA|     20011|\n",
      "|      VMWARE|           PALO ALTO|        USA|     20012|\n",
      "|         HCL|               NOIDA|      INDIA|     20013|\n",
      "|       CISCO|            SAN JOSE|        USA|     20014|\n",
      "|      GOOGLE|       MOUNTAIN VIEW|        USA|     20015|\n",
      "|   HONEYWELL|          MORRISTOWN|        USA|     20016|\n",
      "|       IGATE|         BRIDGEWATER|        USA|     20017|\n",
      "|     INFOSYS|           BENGALURU|      INDIA|     20018|\n",
      "|   CAPGEMINI|               PARIS|     FRANCE|     20019|\n",
      "+------------+--------------------+-----------+----------+\n",
      "\n"
     ]
    }
   ],
   "source": [
    "# Create Company dimension table\n",
    "company_df = campus_company_df.select(\n",
    "    \"Company_Name\",\n",
    "    \"Head_Office_Location\",\n",
    "    \"Country\"\n",
    ").distinct()\n",
    "\n",
    "# Adding Company_ID column name to the Company Dimension Table\n",
    "company_df = company_df.withColumn(\"Company_ID\", monotonically_increasing_id()+20000)\n",
    "company_df.show()"
   ]
  },
  {
   "cell_type": "markdown",
   "id": "ac460278-0f9b-4eb3-9f5c-187c43d62309",
   "metadata": {},
   "source": [
    "- *Table 3: Survey Dimension Table*"
   ]
  },
  {
   "cell_type": "code",
   "execution_count": 8,
   "id": "d591dc72-4b48-48e3-b962-6589675b3792",
   "metadata": {},
   "outputs": [
    {
     "name": "stdout",
     "output_type": "stream",
     "text": [
      "+--------------+---------+\n",
      "|   SURVEY_Name|Survey_ID|\n",
      "+--------------+---------+\n",
      "|           DNA|    30000|\n",
      "|Mint NewsPaper|    30001|\n",
      "|        Forbes|    30002|\n",
      "+--------------+---------+\n",
      "\n"
     ]
    }
   ],
   "source": [
    "# Create Survey dimension table\n",
    "survey_df = campus_college_df.select(\n",
    "    \"SURVEY_Name\",\n",
    ").distinct()\n",
    "# Adding Survey_ID column name to the Survey Dimension Table\n",
    "survey_df = survey_df.withColumn(\"Survey_ID\", monotonically_increasing_id()+30000)\n",
    "\n",
    "# Show Survey Table\n",
    "survey_df.show()"
   ]
  },
  {
   "cell_type": "markdown",
   "id": "97cb3b3a-4852-46f0-993f-b161a14abd2b",
   "metadata": {},
   "source": [
    "- *Table 4: Time Dimension Table*"
   ]
  },
  {
   "cell_type": "code",
   "execution_count": 9,
   "id": "6bc60fe0-d042-4091-b272-f96b56939b82",
   "metadata": {},
   "outputs": [
    {
     "name": "stdout",
     "output_type": "stream",
     "text": [
      "+----------+----+-------+-----+-----------+-------+\n",
      "|      Date|Year|Quarter|Month|Day_Of_Week|Time_ID|\n",
      "+----------+----+-------+-----+-----------+-------+\n",
      "|2014-01-10|2014|      1|    1|          6|  40000|\n",
      "|2013-01-10|2013|      1|    1|          5|  40001|\n",
      "|2012-01-10|2012|      1|    1|          3|  40002|\n",
      "|2012-10-06|2012|      4|   10|          7|  40003|\n",
      "|2013-09-09|2013|      3|    9|          2|  40004|\n",
      "|2013-05-21|2013|      2|    5|          3|  40005|\n",
      "|2013-03-26|2013|      1|    3|          3|  40006|\n",
      "|2014-09-26|2014|      3|    9|          6|  40007|\n",
      "|2014-11-12|2014|      4|   11|          4|  40008|\n",
      "|2013-09-19|2013|      3|    9|          5|  40009|\n",
      "|2012-11-11|2012|      4|   11|          1|  40010|\n",
      "|2013-02-02|2013|      1|    2|          7|  40011|\n",
      "|2012-09-21|2012|      3|    9|          6|  40012|\n",
      "|2012-03-30|2012|      1|    3|          6|  40013|\n",
      "|2012-07-14|2012|      3|    7|          7|  40014|\n",
      "|2013-02-04|2013|      1|    2|          2|  40015|\n",
      "|2012-11-03|2012|      4|   11|          7|  40016|\n",
      "|2012-05-02|2012|      2|    5|          4|  40017|\n",
      "|2014-02-18|2014|      1|    2|          3|  40018|\n",
      "|2012-09-01|2012|      3|    9|          7|  40019|\n",
      "+----------+----+-------+-----+-----------+-------+\n",
      "only showing top 20 rows\n",
      "\n"
     ]
    }
   ],
   "source": [
    "# Extract date from both College & Company Dimension Table\n",
    "time_df = campus_college_df.select(\"Date\").distinct().union(campus_company_df.select(\"Date\").distinct()).distinct()\n",
    "\n",
    "# Extract year, quarter, month, and day of the week from the date column & add Time_ID to time dimension table\n",
    "time_df = time_df.withColumn(\"Year\", year(time_df[\"Date\"])) \\\n",
    "                 .withColumn(\"Quarter\", quarter(time_df[\"Date\"])) \\\n",
    "                 .withColumn(\"Month\", month(time_df[\"Date\"])) \\\n",
    "                 .withColumn(\"Day_Of_Week\", dayofweek(time_df[\"Date\"])) \\\n",
    "                 .withColumn(\"Time_ID\", monotonically_increasing_id()+40000)\n",
    "\n",
    "# Show Time Dimension table\n",
    "time_df.show()"
   ]
  },
  {
   "cell_type": "markdown",
   "id": "f4fe46bd-aa4c-4f2d-8f6f-907fd09d8f24",
   "metadata": {},
   "source": [
    "6. *Create FACT Tables from Joining the original data and Dimension Tables*"
   ]
  },
  {
   "cell_type": "markdown",
   "id": "e56e5ec6-125d-430e-9995-da966c93d988",
   "metadata": {},
   "source": [
    "- *Table 5: Fact College Table*"
   ]
  },
  {
   "cell_type": "code",
   "execution_count": 10,
   "id": "6e1b15c5-3e15-4760-8251-000ed5eafb88",
   "metadata": {},
   "outputs": [
    {
     "name": "stdout",
     "output_type": "stream",
     "text": [
      "+-------+----------+----------+-------+----------------+--------------------+--------+----------------+\n",
      "|Time_ID|College_ID|Company_ID|Package|Student_Selected|Student_Participated|Criteria|Fact__College_ID|\n",
      "+-------+----------+----------+-------+----------------+--------------------+--------+----------------+\n",
      "|  40019|     10009|     20013|    4.5|             260|                 500|      60|           50000|\n",
      "|  40468|     10011|     20001|    7.0|              60|                 110|      80|           50001|\n",
      "|  40375|     10013|     20019|    9.0|              35|                  55|      85|           50002|\n",
      "|  40074|     10010|     20016|    7.5|              91|                 470|      70|           50003|\n",
      "|  40224|     10008|     20008|    6.0|              17|                  53|      70|           50004|\n",
      "|  40293|     10019|     20018|    3.5|             158|                 411|      65|           50005|\n",
      "|  40232|     10003|     20009|    3.0|             184|                 287|      75|           50006|\n",
      "|  40418|     10007|     20015|    8.0|               9|                 250|      70|           50007|\n",
      "|  40424|     10006|     20004|    5.0|              70|                 120|      78|           50008|\n",
      "|  40166|     10016|     20002|   3.15|              67|                 114|      70|           50009|\n",
      "|  40139|     10013|     20016|    7.5|              40|                 150|      70|           50010|\n",
      "|  40251|     10009|     20012|    7.0|              73|                 174|      80|           50011|\n",
      "|  40283|     10006|     20012|    7.0|              84|                 152|      80|           50012|\n",
      "|  40275|     10017|     20001|    7.0|              20|                  93|      80|           50013|\n",
      "|  40427|     10006|     20012|    7.0|              56|                 100|      80|           50014|\n",
      "|  40315|     10009|     20006|   16.0|               9|                  32|      90|           50015|\n",
      "|  40118|     10015|     20005|    6.0|              41|                 120|      75|           50016|\n",
      "|  40279|     10007|     20018|    3.5|              75|                 175|      65|           50017|\n",
      "|  40469|     10016|     20003|    6.0|              29|                 136|      80|           50018|\n",
      "|  40202|     10010|     20008|    6.0|             140|                 220|      70|           50019|\n",
      "+-------+----------+----------+-------+----------------+--------------------+--------+----------------+\n",
      "only showing top 20 rows\n",
      "\n"
     ]
    }
   ],
   "source": [
    "# Create Fact College Table by joining campus_company DataFrame and various dimension tables\n",
    "\n",
    "fact_College_df = campus_company_df.join(time_df, campus_company_df[\"Date\"] == time_df[\"Date\"],\"inner\") \\\n",
    "                                    .join(college_df, campus_company_df[\"College_Name\"] == college_df[\"College_Name\"],\"inner\") \\\n",
    "                                    .join(company_df, campus_company_df[\"Company_Name\"] == company_df[\"Company_Name\"]) \\\n",
    "                                    .select(\n",
    "    \"Time_ID\",\n",
    "    \"College_ID\",\n",
    "    \"Company_ID\",   \n",
    "    \"Package\",\n",
    "    \"Student_Selected\",\n",
    "    \"Student_Participated\",\n",
    "    \"Criteria\"\n",
    ").distinct()\n",
    "\n",
    "# Adding CollegeID column name to the College_DF\n",
    "fact_College_df = fact_College_df.withColumn(\"Fact__College_ID\", monotonically_increasing_id()+50000)\n",
    "\n",
    "# show Fact College Table\n",
    "fact_College_df.show()"
   ]
  },
  {
   "cell_type": "markdown",
   "id": "990b4b16-a782-432c-901c-52199dd6496d",
   "metadata": {},
   "source": [
    "- *Table 6: Fact Survey Table*"
   ]
  },
  {
   "cell_type": "code",
   "execution_count": 11,
   "id": "98668884-2414-487a-b72d-8aab02df27e9",
   "metadata": {},
   "outputs": [
    {
     "name": "stdout",
     "output_type": "stream",
     "text": [
      "+-------+----------+---------+----------------------+---------------------+------+----+--------------+\n",
      "|Time_ID|College_ID|Survey_ID|NO_OF_STUDENTS_FOREIGN|NO_OF_STUDENTS_INDIAN|  Fees|Rank|Fact_Survey_ID|\n",
      "+-------+----------+---------+----------------------+---------------------+------+----+--------------+\n",
      "|  40001|     10009|    30002|                   307|                 2386| 75000|   2|         60000|\n",
      "|  40000|     10019|    30001|                   205|                 1978| 85000|  17|         60001|\n",
      "|  40001|     10004|    30002|                   611|                 1645| 90000|   4|         60002|\n",
      "|  40002|     10005|    30000|                   120|                 1600| 85000|   8|         60003|\n",
      "|  40002|     10009|    30000|                   120|                 1600| 75000|   1|         60004|\n",
      "|  40001|     10001|    30002|                   821|                 2689| 72000|   1|         60005|\n",
      "|  40002|     10002|    30000|                   200|                 2689| 85000|  17|         60006|\n",
      "|  40002|     10015|    30000|                   752|                 2450| 75000|  16|         60007|\n",
      "|  40000|     10011|    30001|                   301|                 2200|350000|  15|         60008|\n",
      "|  40002|     10007|    30000|                  1121|                 2950| 90000|  18|         60009|\n",
      "|  40000|     10012|    30001|                   191|                 2245| 60000|   1|         60010|\n",
      "|  40002|     10016|    30000|                   975|                 2600| 86000|  14|         60011|\n",
      "|  40002|     10010|    30000|                   716|                 2900| 90000|   9|         60012|\n",
      "|  40001|     10016|    30002|                   150|                 1208| 86000|  17|         60013|\n",
      "|  40001|     10000|    30002|                   376|                 2798| 88000|  12|         60014|\n",
      "|  40000|     10016|    30001|                   159|                 2700| 86000|  16|         60015|\n",
      "|  40002|     10004|    30000|                   598|                 2600| 90000|   2|         60016|\n",
      "|  40002|     10018|    30000|                   854|                 2600|150000|  10|         60017|\n",
      "|  40001|     10010|    30002|                   372|                 2950| 95000|  11|         60018|\n",
      "|  40002|     10013|    30000|                   178|                 2645| 55000|  20|         60019|\n",
      "+-------+----------+---------+----------------------+---------------------+------+----+--------------+\n",
      "only showing top 20 rows\n",
      "\n"
     ]
    }
   ],
   "source": [
    "# Create Fact Survey Table by joining campus_college DataFrame and various dimension tables\n",
    "\n",
    "fact_survey_df = campus_college_df.join(time_df, campus_college_df[\"Date\"] == time_df[\"Date\"],\"inner\") \\\n",
    "                                    .join(college_df, campus_college_df[\"College_Name\"] == college_df[\"College_Name\"],\"inner\") \\\n",
    "                                    .join(survey_df, campus_college_df[\"SURVEY_Name\"] == survey_df[\"SURVEY_Name\"]) \\\n",
    "                                    .select(\n",
    "    \"Time_ID\",\n",
    "    \"College_ID\",\n",
    "    \"Survey_ID\",   \n",
    "    \"NO_OF_STUDENTS_FOREIGN\",\n",
    "    \"NO_OF_STUDENTS_INDIAN\",\n",
    "    \"Fees\",\n",
    "    \"Rank\"\n",
    ").distinct()\n",
    "\n",
    "# Adding CollegeID column name to the College_DF\n",
    "fact_survey_df = fact_survey_df.withColumn(\"Fact_Survey_ID\", monotonically_increasing_id()+60000)\n",
    "\n",
    "# show Fact Survey Table\n",
    "fact_survey_df.show()"
   ]
  },
  {
   "cell_type": "markdown",
   "id": "cb7b0bc6-f207-41f2-ad81-0e549380a721",
   "metadata": {},
   "source": [
    "7. *Extracting Data using Query to get the desired results and saving results in CSV files on local storage*"
   ]
  },
  {
   "cell_type": "markdown",
   "id": "da723ad8-8a7e-4b94-82e5-b6807402ebb7",
   "metadata": {},
   "source": [
    "---"
   ]
  },
  {
   "cell_type": "markdown",
   "id": "78b46ab9-7394-4e14-bd2d-471b6f1409b3",
   "metadata": {},
   "source": [
    "- *QUERY 1*"
   ]
  },
  {
   "cell_type": "code",
   "execution_count": 12,
   "id": "ae2be370-5761-410a-bd87-c9e18c49ea3a",
   "metadata": {},
   "outputs": [
    {
     "name": "stdout",
     "output_type": "stream",
     "text": [
      "+----+--------------------+----+\n",
      "|Year|        College_Name|Rank|\n",
      "+----+--------------------+----+\n",
      "|2012|          IIT MUMBAI|   1|\n",
      "|2012|           IIT DELHI|   2|\n",
      "|2012|       IIT KHARAGPUR|   3|\n",
      "|2012|         IIT ROORKEE|   4|\n",
      "|2012|          IIT KANPUR|   5|\n",
      "|2012|          IIT MADRAS|   6|\n",
      "|2012|BIRLA INSTITUTE O...|   7|\n",
      "|2012|        IIT GUWAHATI|   8|\n",
      "|2012|      SRM UNIVERSITY|   9|\n",
      "|2012|THAPAR INSTITUTE ...|  10|\n",
      "|2012|VELLORE INSTITUTE...|  11|\n",
      "|2012|MANIPAL INSTITUTE...|  12|\n",
      "|2012|       IIIT HYDERBAD|  13|\n",
      "|2012|INSTITUTE OF TECH...|  14|\n",
      "|2012|DHIRUBHAI AMBANI ...|  15|\n",
      "|2012|PSG COLLEGE OF TE...|  16|\n",
      "|2012|COLLEGE OF ENGINE...|  17|\n",
      "|2012|VISHWESHWARAYYA T...|  18|\n",
      "|2012|     MNNIT ALLAHABAD|  19|\n",
      "|2012|DELHI COLLEGE OF ...|  20|\n",
      "+----+--------------------+----+\n",
      "only showing top 20 rows\n",
      "\n"
     ]
    }
   ],
   "source": [
    "# QUERY 1 :  year wise college ranking\n",
    "\n",
    "# Join Fact_survey_df with time_df to get Year and join with college_df to get College_name\n",
    "ranking_year_df = fact_survey_df \\\n",
    "    .join(time_df, fact_survey_df[\"Time_ID\"] == time_df[\"Time_ID\"], \"inner\") \\\n",
    "    .join(college_df, fact_survey_df[\"College_ID\"] == college_df[\"College_ID\"], \"inner\") \\\n",
    "    .select(\"Year\", \"College_Name\", \"Rank\").orderBy(\"Year\",\"Rank\")\n",
    "\n",
    "# showing result\n",
    "ranking_year_df.show()"
   ]
  },
  {
   "cell_type": "markdown",
   "id": "cb9ffbd4-39e4-4c39-9aca-4aa72b387998",
   "metadata": {},
   "source": [
    "- *Save results of above query on local storage in CSV format*"
   ]
  },
  {
   "cell_type": "code",
   "execution_count": null,
   "id": "5b6a3c15-5245-4224-8cce-42f228e1d2af",
   "metadata": {},
   "outputs": [],
   "source": [
    "# Save Query 2 to CSV File - Save REPORTS\n",
    "ranking_year_df.write.mode(\"overwrite\").csv(r\"C:\\MINI-PROJECT\\Reports\\Ranking_Yearwise\", header=True)"
   ]
  },
  {
   "cell_type": "markdown",
   "id": "4ca383b8-fa9a-438b-b7b3-c57697b4d2d6",
   "metadata": {},
   "source": [
    "---"
   ]
  },
  {
   "cell_type": "markdown",
   "id": "e0d6e6ad-a762-45a2-869f-a4562c426c9b",
   "metadata": {},
   "source": [
    "- *QUERY 2*"
   ]
  },
  {
   "cell_type": "code",
   "execution_count": 14,
   "id": "2e2f3c29-ac90-4edb-9034-77c37d9d865a",
   "metadata": {},
   "outputs": [
    {
     "name": "stdout",
     "output_type": "stream",
     "text": [
      "+----+--------------------+------------+--------------------+\n",
      "|Year|        College_Name|Company_Name|Selection_Percentage|\n",
      "+----+--------------------+------------+--------------------+\n",
      "|2012|BIRLA INSTITUTE O...|   HONEYWELL|   68.18181818181817|\n",
      "|2012|BIRLA INSTITUTE O...|    MU SIGMA|   33.33333333333333|\n",
      "|2012|BIRLA INSTITUTE O...|     INFOSYS|   70.17543859649122|\n",
      "|2012|BIRLA INSTITUTE O...|         TCS|   55.55555555555556|\n",
      "|2012|BIRLA INSTITUTE O...|       IGATE|   53.84615384615385|\n",
      "|2012|BIRLA INSTITUTE O...|      VMWARE|   57.14285714285714|\n",
      "|2012|BIRLA INSTITUTE O...|        KPMG|                65.0|\n",
      "|2012|BIRLA INSTITUTE O...|     SAMSUNG|   47.05882352941176|\n",
      "|2012|BIRLA INSTITUTE O...|       CISCO|   33.33333333333333|\n",
      "|2012|BIRLA INSTITUTE O...|       WIPRO|   66.66666666666666|\n",
      "|2012|BIRLA INSTITUTE O...|   COGNIZANT|   83.33333333333334|\n",
      "|2012|BIRLA INSTITUTE O...|   JP MORGAN|  42.857142857142854|\n",
      "|2012|BIRLA INSTITUTE O...|   CAPGEMINI|   54.54545454545454|\n",
      "|2012|BIRLA INSTITUTE O...|      AKAMAI|                60.0|\n",
      "|2012|BIRLA INSTITUTE O...|         HCL|    67.3076923076923|\n",
      "|2012|BIRLA INSTITUTE O...|   ACCENTURE|   62.96296296296296|\n",
      "|2012|COLLEGE OF ENGINE...|         TCS|   73.24324324324324|\n",
      "|2012|COLLEGE OF ENGINE...|   CAPGEMINI|  47.368421052631575|\n",
      "|2012|COLLEGE OF ENGINE...|   ACCENTURE|   72.72727272727273|\n",
      "|2012|COLLEGE OF ENGINE...|     SAMSUNG|   66.66666666666666|\n",
      "+----+--------------------+------------+--------------------+\n",
      "only showing top 20 rows\n",
      "\n"
     ]
    }
   ],
   "source": [
    "# QUERY 2 :  Year Wise College Wise Percentage Selection\n",
    "\n",
    "# Join fact_College_df with time_df, college_df, and company_df to get Year, College_Name, and Company_Name \n",
    "selection_df = fact_College_df \\\n",
    "    .join(time_df, fact_College_df[\"Time_ID\"] == time_df[\"Time_ID\"], \"inner\") \\\n",
    "    .join(college_df, fact_College_df[\"College_ID\"] == college_df[\"College_ID\"], \"inner\") \\\n",
    "    .join(company_df, fact_College_df[\"Company_ID\"] == company_df[\"Company_ID\"], \"inner\") \\\n",
    "    .select(\"Year\", \"College_Name\", \"Company_Name\", \"Student_Selected\", \"Student_Participated\")\n",
    "\n",
    "# Calculate selection percentage\n",
    "selection_df = selection_df \\\n",
    "    .withColumn(\"Selection_Percentage\", (col(\"Student_Selected\") / col(\"Student_Participated\")) * 100)\n",
    "\n",
    "# Select Year, college_name, Company_name, Selection_percentage order by Year and College_name\n",
    "selection_df = selection_df.select(\"Year\", \"College_Name\", \"Company_Name\",\"Selection_Percentage\").orderBy(\"Year\",\"College_Name\")\n",
    "\n",
    "# Show the result\n",
    "selection_df.show()\n",
    "\n"
   ]
  },
  {
   "cell_type": "markdown",
   "id": "477eeb39-dcba-4434-995d-0e12a5792dcb",
   "metadata": {},
   "source": [
    "- *Save results of above query on local storage in CSV format*"
   ]
  },
  {
   "cell_type": "code",
   "execution_count": null,
   "id": "b64a655e-0390-40fc-806e-131b991b60f6",
   "metadata": {},
   "outputs": [],
   "source": [
    "# Save Query 2 to CSV File - Save REPORTS\n",
    "selection_df.write.mode(\"overwrite\").csv(r\"C:\\MINI-PROJECT\\Reports\\Placement_Percent\", header=True)"
   ]
  },
  {
   "cell_type": "markdown",
   "id": "fa51e7ab-3982-419a-925b-7fa502440c12",
   "metadata": {},
   "source": [
    "---"
   ]
  },
  {
   "cell_type": "markdown",
   "id": "16f6882f-7563-413a-b908-d713e79a148e",
   "metadata": {},
   "source": [
    "- *QUERY 3*"
   ]
  },
  {
   "cell_type": "code",
   "execution_count": 16,
   "id": "5f743aef-637d-4009-81eb-3cafc53ea5ab",
   "metadata": {},
   "outputs": [
    {
     "name": "stdout",
     "output_type": "stream",
     "text": [
      "+----+-------+--------------------+-----------------------+\n",
      "|Year|Quarter|        College_Name|Total_Students_Selected|\n",
      "+----+-------+--------------------+-----------------------+\n",
      "|2012|      4|      SRM UNIVERSITY|                    755|\n",
      "|2012|      3|DHIRUBHAI AMBANI ...|                   1347|\n",
      "|2012|      4|DHIRUBHAI AMBANI ...|                    762|\n",
      "|2012|      2|        IIT GUWAHATI|                    265|\n",
      "|2012|      3|     MNNIT ALLAHABAD|                    932|\n",
      "|2012|      4|        IIT GUWAHATI|                    194|\n",
      "|2012|      2|      SRM UNIVERSITY|                    955|\n",
      "|2012|      3|        IIT GUWAHATI|                    563|\n",
      "|2012|      3|BIRLA INSTITUTE O...|                   1510|\n",
      "|2012|      2|          IIT KANPUR|                    653|\n",
      "|2012|      1|       IIT KHARAGPUR|                    286|\n",
      "|2012|      2|PSG COLLEGE OF TE...|                   1035|\n",
      "|2012|      1|        IIT GUWAHATI|                    343|\n",
      "|2012|      1|COLLEGE OF ENGINE...|                    145|\n",
      "|2012|      1|INSTITUTE OF TECH...|                    388|\n",
      "|2012|      3|         IIT ROORKEE|                    658|\n",
      "|2012|      2|DHIRUBHAI AMBANI ...|                   1075|\n",
      "|2012|      1|DHIRUBHAI AMBANI ...|                    140|\n",
      "|2012|      1|          IIT MADRAS|                    268|\n",
      "|2012|      2|     MNNIT ALLAHABAD|                    673|\n",
      "+----+-------+--------------------+-----------------------+\n",
      "only showing top 20 rows\n",
      "\n"
     ]
    }
   ],
   "source": [
    "# Query 3 : Year Wise Quarter Wise Placement\n",
    "from pyspark.sql.functions import sum\n",
    "\n",
    "# Join fact_College_df with time_df and college_df to get Year, Quarter, and College_Name\n",
    "quarterly_placement_df = fact_College_df \\\n",
    "    .join(time_df, fact_College_df[\"Time_ID\"] == time_df[\"Time_ID\"], \"inner\") \\\n",
    "    .join(college_df, fact_College_df[\"College_ID\"] == college_df[\"College_ID\"], \"inner\") \\\n",
    "    .select(\"Year\", \"Quarter\", \"College_Name\", \"Student_Selected\")\n",
    "\n",
    "# Group by Year, Quarter, and College_Name, then calculate the total number of students selected\n",
    "quarterly_placement_df = quarterly_placement_df.groupBy(\"Year\", \"Quarter\", \"College_Name\") \\\n",
    "    .agg(sum(\"Student_Selected\").alias(\"Total_Students_Selected\")).orderBy(\"Year\")\n",
    "\n",
    "# Show the result\n",
    "quarterly_placement_df.show()\n"
   ]
  },
  {
   "cell_type": "markdown",
   "id": "2654a8e4-afb3-421d-b283-f3a5db1d4469",
   "metadata": {},
   "source": [
    "- *Save results of above query on local storage in CSV format*"
   ]
  },
  {
   "cell_type": "code",
   "execution_count": null,
   "id": "5cf7d0d2-4de4-4b81-98d8-a758294bf3f9",
   "metadata": {},
   "outputs": [],
   "source": [
    "# Save Query 3 to CSV File - Save REPORTS\n",
    "quarterly_placement_df.write.mode(\"overwrite\").csv(r\"C:\\MINI-PROJECT\\Reports\\Quarterly_placement\", header=True)"
   ]
  },
  {
   "cell_type": "markdown",
   "id": "58ac998e-e709-4def-a8e2-e20213c44199",
   "metadata": {},
   "source": [
    "---"
   ]
  },
  {
   "cell_type": "markdown",
   "id": "ad487b66-8094-43ee-ae86-2bbb0d753a81",
   "metadata": {},
   "source": [
    "- *QUERY 4"
   ]
  },
  {
   "cell_type": "code",
   "execution_count": 18,
   "id": "6e35aaa4-b294-4be3-bcf1-ac0b42aa05d0",
   "metadata": {},
   "outputs": [
    {
     "name": "stdout",
     "output_type": "stream",
     "text": [
      "+----+------------+-------+-----------------------+\n",
      "|Year|Company_Name|Package|Total_Students_Selected|\n",
      "+----+------------+-------+-----------------------+\n",
      "|2012|       EMC 2|    6.0|                    626|\n",
      "|2012|      VMWARE|    7.0|                    837|\n",
      "|2012|    FACEBOOK|    8.5|                     48|\n",
      "|2012|       WIPRO|   3.25|                   3735|\n",
      "|2012|   COGNIZANT|   3.15|                   5705|\n",
      "|2012|       IGATE|   3.15|                   7213|\n",
      "|2012|     INFOSYS|    3.5|                   5007|\n",
      "|2012|       CISCO|    9.5|                    272|\n",
      "|2012|        KPMG|    5.0|                   1201|\n",
      "|2012|         HCL|    4.5|                   6583|\n",
      "|2012|   ACCENTURE|    3.0|                   2263|\n",
      "|2012|      GOOGLE|    8.0|                     75|\n",
      "|2012|   CAPGEMINI|    9.0|                    377|\n",
      "|2012|     SAMSUNG|    7.0|                    892|\n",
      "|2012|   HONEYWELL|    7.5|                   2062|\n",
      "|2012|   JP MORGAN|    4.5|                   1016|\n",
      "|2012|   MICROSOFT|   16.0|                     98|\n",
      "|2012|      AKAMAI|    6.0|                   1346|\n",
      "|2012|    MU SIGMA|    6.0|                   2606|\n",
      "|2012|         TCS|   3.25|                  10108|\n",
      "+----+------------+-------+-----------------------+\n",
      "only showing top 20 rows\n",
      "\n"
     ]
    }
   ],
   "source": [
    "# Query 4 : Total Students Selected per Company\n",
    "from pyspark.sql.functions import sum, avg, col\n",
    "\n",
    "# Join fact_College_df with time_df and company_df to get Year, Company_Name, Student_Selected, and Package\n",
    "yearly_selected_df = fact_College_df \\\n",
    "    .join(time_df, fact_College_df[\"Time_ID\"] == time_df[\"Time_ID\"], \"inner\") \\\n",
    "    .join(company_df, fact_College_df[\"Company_ID\"] == company_df[\"Company_ID\"], \"inner\") \\\n",
    "    .select(\"Year\", \"Company_Name\", \"Student_Selected\", \"Package\")\n",
    "\n",
    "# Group by Year and Company_Name, calculate total students selected and average package\n",
    "yearly_selected_df = yearly_selected_df.groupBy(\"Year\", \"Company_Name\", \"Package\") \\\n",
    "    .agg(\n",
    "        sum(\"Student_Selected\").alias(\"Total_Students_Selected\"),\n",
    "    ).orderBy(\"Year\")\n",
    "\n",
    "# Show the result\n",
    "yearly_selected_df.show()"
   ]
  },
  {
   "cell_type": "markdown",
   "id": "ed6332be-4c13-4909-962e-04b5a2b8cc2c",
   "metadata": {},
   "source": [
    "- *Save results of above query on local storage in CSV format*"
   ]
  },
  {
   "cell_type": "code",
   "execution_count": null,
   "id": "ad6f8a04-0718-4247-9028-ff0db7830cfc",
   "metadata": {},
   "outputs": [],
   "source": [
    "# Save Query 4 to CSV File - Save REPORTS\n",
    "yearly_selected_df.write.mode(\"overwrite\").csv(r\"C:\\MINI-PROJECT\\Reports\\Student_Selected_per_Company\", header=True)"
   ]
  },
  {
   "cell_type": "markdown",
   "id": "bd596633-6d39-4bd6-ac57-e7dbfc429061",
   "metadata": {},
   "source": [
    "---"
   ]
  },
  {
   "cell_type": "markdown",
   "id": "cab353f0-6048-451a-9d99-80ce05f94755",
   "metadata": {},
   "source": [
    "- *QUERY 5*"
   ]
  },
  {
   "cell_type": "code",
   "execution_count": 20,
   "id": "05503be2-c6cc-4e85-b274-0ff6ffcc5f8e",
   "metadata": {},
   "outputs": [
    {
     "name": "stdout",
     "output_type": "stream",
     "text": [
      "+----+--------------------+----+\n",
      "|Year|        College_Name|Rank|\n",
      "+----+--------------------+----+\n",
      "|2012|BIRLA INSTITUTE O...|   7|\n",
      "|2013|BIRLA INSTITUTE O...|  12|\n",
      "|2014|BIRLA INSTITUTE O...|   8|\n",
      "|2012|COLLEGE OF ENGINE...|  17|\n",
      "|2013|COLLEGE OF ENGINE...|  15|\n",
      "|2014|COLLEGE OF ENGINE...|  14|\n",
      "|2012|DELHI COLLEGE OF ...|  20|\n",
      "|2013|DELHI COLLEGE OF ...|  18|\n",
      "|2014|DELHI COLLEGE OF ...|  19|\n",
      "|2012|DHIRUBHAI AMBANI ...|  15|\n",
      "|2013|DHIRUBHAI AMBANI ...|  13|\n",
      "|2014|DHIRUBHAI AMBANI ...|  17|\n",
      "|2012|       IIIT HYDERBAD|  13|\n",
      "|2013|       IIIT HYDERBAD|  10|\n",
      "|2014|       IIIT HYDERBAD|   6|\n",
      "|2012|           IIT DELHI|   2|\n",
      "|2013|           IIT DELHI|   4|\n",
      "|2014|           IIT DELHI|   3|\n",
      "|2012|        IIT GUWAHATI|   8|\n",
      "|2013|        IIT GUWAHATI|   7|\n",
      "+----+--------------------+----+\n",
      "only showing top 20 rows\n",
      "\n"
     ]
    }
   ],
   "source": [
    "# QUERY 5 : College Ranking Year wise\n",
    "ranking_college_df = fact_survey_df \\\n",
    "    .join(time_df, fact_survey_df[\"Time_ID\"] == time_df[\"Time_ID\"], \"inner\") \\\n",
    "    .join(college_df, fact_survey_df[\"College_ID\"] == college_df[\"College_ID\"], \"inner\") \\\n",
    "    .select(\"Year\", \"College_Name\", \"Rank\").orderBy(\"College_Name\",\"Year\")\n",
    "\n",
    "# show result\n",
    "ranking_college_df.show()"
   ]
  },
  {
   "cell_type": "markdown",
   "id": "4cd8dba9-38ea-4a8b-8f69-2307245a39fb",
   "metadata": {},
   "source": [
    "- *Save results of above query on local storage in CSV format*"
   ]
  },
  {
   "cell_type": "code",
   "execution_count": null,
   "id": "d1b65a76-d075-462f-9927-3f6583ca9b51",
   "metadata": {},
   "outputs": [],
   "source": [
    "# Save Query 5 to CSV File - Save REPORTS\n",
    "ranking_college_df.write.mode(\"overwrite\").csv(r\"C:\\MINI-PROJECT\\Reports\\College_Ranking\", header=True)"
   ]
  },
  {
   "cell_type": "markdown",
   "id": "1d4c6b2a-2928-4a4a-b8cd-54d3004d619e",
   "metadata": {},
   "source": [
    "7. *End Spark Session*"
   ]
  },
  {
   "cell_type": "code",
   "execution_count": 22,
   "id": "f59cbdcf-36d2-4f86-8e84-e48e48686d9f",
   "metadata": {},
   "outputs": [],
   "source": [
    "# Stop the SparkSession\n",
    "spark.stop()"
   ]
  },
  {
   "cell_type": "markdown",
   "id": "6697b875-3ffd-45f7-9a6f-c13c7dcc823c",
   "metadata": {},
   "source": [
    "<center>--- END of Code ---</center>"
   ]
  }
 ],
 "metadata": {
  "kernelspec": {
   "display_name": "Python 3 (ipykernel)",
   "language": "python",
   "name": "python3"
  },
  "language_info": {
   "codemirror_mode": {
    "name": "ipython",
    "version": 3
   },
   "file_extension": ".py",
   "mimetype": "text/x-python",
   "name": "python",
   "nbconvert_exporter": "python",
   "pygments_lexer": "ipython3",
   "version": "3.9.11"
  }
 },
 "nbformat": 4,
 "nbformat_minor": 5
}
